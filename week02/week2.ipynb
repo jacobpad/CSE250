{
 "metadata": {
  "language_info": {
   "codemirror_mode": {
    "name": "ipython",
    "version": 3
   },
   "file_extension": ".py",
   "mimetype": "text/x-python",
   "name": "python",
   "nbconvert_exporter": "python",
   "pygments_lexer": "ipython3",
   "version": "3.9.4"
  },
  "orig_nbformat": 2,
  "kernelspec": {
   "name": "python394jvsc74a57bd0aee8b7b246df8f9039afb4144a1f6fd8d2ca17a180786b69acc140d282b71a49",
   "display_name": "Python 3.9.4 64-bit"
  },
  "metadata": {
   "interpreter": {
    "hash": "aee8b7b246df8f9039afb4144a1f6fd8d2ca17a180786b69acc140d282b71a49"
   }
  }
 },
 "nbformat": 4,
 "nbformat_minor": 2,
 "cells": [
  {
   "source": [
    "# Week 2 - Jacob Padgett"
   ],
   "cell_type": "markdown",
   "metadata": {}
  },
  {
   "source": [
    "## Grand Questions:\n",
    "*  How does your name at your birth year compare to its use historically?\n",
    "*  If you talked to someone named Brittany on the phone, what is your guess of their age? What ages would you not guess?\n",
    "*  Mary, Martha, Peter, and Paul are all Christian names. From 1920 - 2000, compare the name usage of each of the four names.\n",
    "*  Think of a unique name from a famous movie. Plot that name and see how increases line up with the movie release."
   ],
   "cell_type": "markdown",
   "metadata": {}
  },
  {
   "source": [
    "## Code for Question 1\n",
    "*  How does your name at your birth year compare to its use historically?"
   ],
   "cell_type": "markdown",
   "metadata": {}
  },
  {
   "cell_type": "code",
   "execution_count": 1,
   "metadata": {},
   "outputs": [],
   "source": [
    "# Imports\n",
    "import altair as alt\n",
    "import calendar\n",
    "import datetime\n",
    "import numpy as np\n",
    "import pandas as pd"
   ]
  },
  {
   "cell_type": "code",
   "execution_count": 2,
   "metadata": {},
   "outputs": [],
   "source": [
    "# Read in data\n",
    "url = 'https://github.com/byuidatascience/data4names/raw/master/data-raw/names_year/names_year.csv'\n",
    "df = pd.read_csv(url)\n",
    "\n",
    "all_jacob =  df.query('name == \"Jacob\"') # Narrow down to only Jacob's\n",
    "jacob_1983 = df.query('name == \"Jacob\" & year == 1983') # 538 Jacob's in 1983"
   ]
  },
  {
   "cell_type": "code",
   "execution_count": 3,
   "metadata": {},
   "outputs": [],
   "source": [
    "all_jacob_CA_chart = (alt.Chart(all_jacob).encode(x='year:O', y='CA').mark_line().properties(title=\"Q1. California Name Popularity - Jacob\", width=800))\n",
    "all_jacob_CA_chart.save('all_jacob_CA_chart.png')"
   ]
  },
  {
   "source": [
    "### Answered - Question 1\n",
    "*  How does your name at your birth year compare to its use historically?\n",
    "---\n",
    "\n",
    "The name \"Jacob\" was used 538 (in CA where I was born) times in 1983 (my birth year) and here's a graph of how it has been used historically.\n",
    "\n",
    "\n",
    "![](all_jacob_CA_chart.png)"
   ],
   "cell_type": "markdown",
   "metadata": {}
  },
  {
   "source": [
    "## Code for Question 2\n",
    "*  If you talked to someone named Brittany on the phone, what is your guess of their age? What ages would you not guess?"
   ],
   "cell_type": "markdown",
   "metadata": {}
  },
  {
   "cell_type": "code",
   "execution_count": 4,
   "metadata": {},
   "outputs": [],
   "source": [
    "# See a visual of Brittany's birth years\n",
    "guess_age_Brittany =  df.query('name == \"Brittany\"')\n",
    "guess_age_Brittany_chart = (alt.Chart(guess_age_Brittany).encode(x='year:O', y='Total').mark_line().properties(title=\"Q2. Average Age of Brittany\"))\n",
    "guess_age_Brittany_chart.save('guess_age_Brittany_chart.png')"
   ]
  },
  {
   "cell_type": "code",
   "execution_count": 5,
   "metadata": {},
   "outputs": [],
   "source": [
    "# Helper Functions\n",
    "def years_and_months(float_year):\n",
    "    '''Convert years with decimals into tuples of (year,month)'''\n",
    "    year = int(float_year)\n",
    "    month = int((float_year % 1) * 12)\n",
    "    return year, month\n",
    "\n",
    "def month_months(num):\n",
    "    '''To calculate if a month is plural or not'''\n",
    "    if num == 1:\n",
    "        return \"month\"\n",
    "    else:\n",
    "        return \"months\""
   ]
  },
  {
   "cell_type": "code",
   "execution_count": 6,
   "metadata": {},
   "outputs": [
    {
     "output_type": "stream",
     "name": "stdout",
     "text": [
      "\nThe average Brittany was born in June of 1991.\nThis would make the average Brittany 29 years and 10 months, and that's how old I would guess she would be.\n"
     ]
    }
   ],
   "source": [
    "average_birth_year_for_Brittany = guess_age_Brittany.mean()[0] # 1991.5\n",
    "birth_year, birth_month = years_and_months(average_birth_year_for_Brittany) # 1991,6\n",
    "\n",
    "dt = datetime.datetime.today() # Todays date for calculating age\n",
    "current_year = dt.year # 2021\n",
    "current_month = dt.month # 4\n",
    "\n",
    "d0 = datetime.date(birth_year, birth_month, 1) # 1991, 6, 1\n",
    "d1 = datetime.date(current_year, current_month, 1) # 2021, 4, 1\n",
    "day_age = d1-d0 # Day's old - 10897 and counting\n",
    "average_age_year, average_age_month = years_and_months(day_age.days / 365) # (29, 10) and counting\n",
    "\n",
    "print(f\"\"\"\n",
    "The average Brittany was born in {calendar.month_name[birth_month]} of {birth_year}.\n",
    "This would make the average Brittany {average_age_year} years and {average_age_month} {month_months(average_age_month)}, and that's how old I would guess she would be.\"\"\")"
   ]
  },
  {
   "source": [
    "### Answered - Question 2\n",
    "*  If you talked to someone named Brittany on the phone, what is your guess of their age? What ages would you not guess?\n",
    "---\n",
    "\n",
    "As mentioned in the output for the cell above: \n",
    "```\n",
    "The average Brittany was born in June of 1991.\n",
    "This would make the average Brittany 29 years and 10 months, and that's how old I would guess she would be.\n",
    "```\n",
    "\n",
    "Using the chart below, I would not guess Brittany is born prior to 1980, nor would Iguess she's born after 2001.\n",
    "\n",
    "![](guess_age_Brittany_chart.png)\n"
   ],
   "cell_type": "markdown",
   "metadata": {}
  },
  {
   "source": [
    "## Code for Question 3\n",
    "*  Mary, Martha, Peter, and Paul are all Christian names. From 1920 - 2000, compare the name usage of each of the four names."
   ],
   "cell_type": "markdown",
   "metadata": {}
  },
  {
   "cell_type": "code",
   "execution_count": 7,
   "metadata": {},
   "outputs": [],
   "source": [
    "# Subset the data\n",
    "mmpp = df.query('name in [\"Mary\",\"Martha\",\"Peter\",\"Paul\"] & year > 1919 & year < 2020')"
   ]
  },
  {
   "cell_type": "code",
   "execution_count": 8,
   "metadata": {},
   "outputs": [],
   "source": [
    "# Chart the subset\n",
    "mmpp_chart = (alt.Chart(mmpp).encode(alt.X('year:O'), \n",
    "alt.Y('Total:Q'), color='name').mark_line().properties(width=800, title='Q3. Mary, Martha, Peter & Paul by Year'))\n",
    "mmpp_chart.save('mmpp_chart.png')"
   ]
  },
  {
   "source": [
    "### Answered - Question 3\n",
    "* Mary, Martha, Peter, and Paul are all Christian names. From 1920 - 2000, compare the name usage of each of the four names.\n",
    "---\n",
    "\n",
    "The following chart shows comparison between the names Mary, Martha, Peter & Paul between the years 1920 & 2020\n",
    "\n",
    "![](mmpp_chart.png)"
   ],
   "cell_type": "markdown",
   "metadata": {}
  },
  {
   "source": [
    "## Code for Question 4\n",
    "*  Think of a unique name from a famous movie. Plot that name and see how increases line up with the movie release."
   ],
   "cell_type": "markdown",
   "metadata": {}
  },
  {
   "cell_type": "code",
   "execution_count": 9,
   "metadata": {},
   "outputs": [],
   "source": [
    "titanic_Jack = df.query('name == \"Jack\" & year >= 1987 & year <= 2007') # From the Titanic in 1997\n",
    "titanic_Jack_chart = (alt.Chart(titanic_Jack).encode(x='year:O', y='Total').mark_line().properties(title=\"Q4. Jack From Titanic\")) # Build chart\n",
    "titanic_Jack_chart.save('titanic_Jack_chart.png') # Save chart\n"
   ]
  },
  {
   "source": [
    "### Answered - Question 4\n",
    "* Think of a unique name from a famous movie. Plot that name and see how increases line up with the movie release.\n",
    "---\n",
    "\n",
    "With the movie Titanic being released in the year 1997, one of the two main characters, Jack is who I chose to evaluate. The name Jack was already on the up-trend when the movie came out, and it didn't hurt it. In fact, the name kept gaining popularity for about 8 years after..\n",
    "\n",
    "See the below chart for details.\n",
    "\n",
    "![](titanic_Jack_chart.png)"
   ],
   "cell_type": "markdown",
   "metadata": {}
  }
 ]
}